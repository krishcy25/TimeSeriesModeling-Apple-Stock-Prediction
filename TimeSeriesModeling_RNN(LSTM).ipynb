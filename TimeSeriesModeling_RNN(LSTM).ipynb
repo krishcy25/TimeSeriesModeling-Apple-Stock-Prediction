{
  "nbformat": 4,
  "nbformat_minor": 0,
  "metadata": {
    "colab": {
      "name": "TimeSeriesModeling- RNN(LSTM).ipynb",
      "provenance": [],
      "collapsed_sections": []
    },
    "kernelspec": {
      "name": "python3",
      "display_name": "Python 3"
    }
  },
  "cells": [
    {
      "cell_type": "code",
      "metadata": {
        "id": "0nPIu_Xs7_YD",
        "colab_type": "code",
        "colab": {}
      },
      "source": [
        "# Part 1 - Data Preprocessing\n",
        "\n",
        "# Importing the libraries\n",
        "import numpy as np\n",
        "import matplotlib.pyplot as plt\n",
        "import pandas as pd"
      ],
      "execution_count": 13,
      "outputs": []
    },
    {
      "cell_type": "code",
      "metadata": {
        "id": "CKaYS8Mn8Ofv",
        "colab_type": "code",
        "colab": {}
      },
      "source": [
        "# Importing the training set\n",
        "dataset_train = pd.read_csv('/content/apple_stock_complete_data.csv')\n",
        "training_set = dataset_train.iloc[:, 1:2].values"
      ],
      "execution_count": 17,
      "outputs": []
    },
    {
      "cell_type": "code",
      "metadata": {
        "id": "AGNECCK08WeD",
        "colab_type": "code",
        "colab": {
          "base_uri": "https://localhost:8080/",
          "height": 204
        },
        "outputId": "9a1ebd76-f6c5-4bea-e82a-80ea60ca5a33"
      },
      "source": [
        "dataset_train.head()"
      ],
      "execution_count": 18,
      "outputs": [
        {
          "output_type": "execute_result",
          "data": {
            "text/html": [
              "<div>\n",
              "<style scoped>\n",
              "    .dataframe tbody tr th:only-of-type {\n",
              "        vertical-align: middle;\n",
              "    }\n",
              "\n",
              "    .dataframe tbody tr th {\n",
              "        vertical-align: top;\n",
              "    }\n",
              "\n",
              "    .dataframe thead th {\n",
              "        text-align: right;\n",
              "    }\n",
              "</style>\n",
              "<table border=\"1\" class=\"dataframe\">\n",
              "  <thead>\n",
              "    <tr style=\"text-align: right;\">\n",
              "      <th></th>\n",
              "      <th>Date</th>\n",
              "      <th>open</th>\n",
              "      <th>high</th>\n",
              "      <th>low</th>\n",
              "      <th>close</th>\n",
              "      <th>volume</th>\n",
              "    </tr>\n",
              "  </thead>\n",
              "  <tbody>\n",
              "    <tr>\n",
              "      <th>0</th>\n",
              "      <td>12/12/1980</td>\n",
              "      <td>0.5134</td>\n",
              "      <td>0.5155</td>\n",
              "      <td>0.5134</td>\n",
              "      <td>0.5134</td>\n",
              "      <td>117258400</td>\n",
              "    </tr>\n",
              "    <tr>\n",
              "      <th>1</th>\n",
              "      <td>12/15/1980</td>\n",
              "      <td>0.4889</td>\n",
              "      <td>0.4889</td>\n",
              "      <td>0.4866</td>\n",
              "      <td>0.4866</td>\n",
              "      <td>43971200</td>\n",
              "    </tr>\n",
              "    <tr>\n",
              "      <th>2</th>\n",
              "      <td>12/16/1980</td>\n",
              "      <td>0.4530</td>\n",
              "      <td>0.4530</td>\n",
              "      <td>0.4509</td>\n",
              "      <td>0.4509</td>\n",
              "      <td>26432000</td>\n",
              "    </tr>\n",
              "    <tr>\n",
              "      <th>3</th>\n",
              "      <td>12/17/1980</td>\n",
              "      <td>0.4620</td>\n",
              "      <td>0.4643</td>\n",
              "      <td>0.4620</td>\n",
              "      <td>0.4620</td>\n",
              "      <td>21610400</td>\n",
              "    </tr>\n",
              "    <tr>\n",
              "      <th>4</th>\n",
              "      <td>12/18/1980</td>\n",
              "      <td>0.4755</td>\n",
              "      <td>0.4777</td>\n",
              "      <td>0.4755</td>\n",
              "      <td>0.4755</td>\n",
              "      <td>18362400</td>\n",
              "    </tr>\n",
              "  </tbody>\n",
              "</table>\n",
              "</div>"
            ],
            "text/plain": [
              "         Date    open    high     low   close     volume\n",
              "0  12/12/1980  0.5134  0.5155  0.5134  0.5134  117258400\n",
              "1  12/15/1980  0.4889  0.4889  0.4866  0.4866   43971200\n",
              "2  12/16/1980  0.4530  0.4530  0.4509  0.4509   26432000\n",
              "3  12/17/1980  0.4620  0.4643  0.4620  0.4620   21610400\n",
              "4  12/18/1980  0.4755  0.4777  0.4755  0.4755   18362400"
            ]
          },
          "metadata": {
            "tags": []
          },
          "execution_count": 18
        }
      ]
    },
    {
      "cell_type": "code",
      "metadata": {
        "id": "--eqyVYg8mZ_",
        "colab_type": "code",
        "colab": {
          "base_uri": "https://localhost:8080/",
          "height": 34
        },
        "outputId": "36501153-76c4-4bbe-8c4b-13908a697b54"
      },
      "source": [
        "len(dataset_train)"
      ],
      "execution_count": 19,
      "outputs": [
        {
          "output_type": "execute_result",
          "data": {
            "text/plain": [
              "9971"
            ]
          },
          "metadata": {
            "tags": []
          },
          "execution_count": 19
        }
      ]
    },
    {
      "cell_type": "code",
      "metadata": {
        "id": "4_iHyXRN8a4s",
        "colab_type": "code",
        "colab": {}
      },
      "source": [
        "# Feature Scaling\n",
        "from sklearn.preprocessing import MinMaxScaler\n",
        "sc = MinMaxScaler(feature_range = (0, 1))\n",
        "training_set_scaled = sc.fit_transform(training_set)"
      ],
      "execution_count": 20,
      "outputs": []
    },
    {
      "cell_type": "code",
      "metadata": {
        "id": "9CiGl41u8dGE",
        "colab_type": "code",
        "colab": {}
      },
      "source": [
        "# Creating a data structure with 240 timesteps and 1 output\n",
        "X_train = []\n",
        "y_train = []\n",
        "for i in range(240, 9971):\n",
        "    X_train.append(training_set_scaled[i-240:i, 0])\n",
        "    y_train.append(training_set_scaled[i, 0])\n",
        "X_train, y_train = np.array(X_train), np.array(y_train)"
      ],
      "execution_count": 21,
      "outputs": []
    },
    {
      "cell_type": "code",
      "metadata": {
        "id": "--hiiX3l82a9",
        "colab_type": "code",
        "colab": {}
      },
      "source": [
        "# Reshaping\n",
        "X_train = np.reshape(X_train, (X_train.shape[0], X_train.shape[1], 1))"
      ],
      "execution_count": 22,
      "outputs": []
    },
    {
      "cell_type": "code",
      "metadata": {
        "id": "EvonapAu84gX",
        "colab_type": "code",
        "colab": {
          "base_uri": "https://localhost:8080/",
          "height": 850
        },
        "outputId": "2e6e31e7-e193-4a06-deff-7fedf6c2b1f5"
      },
      "source": [
        "X_train"
      ],
      "execution_count": 23,
      "outputs": [
        {
          "output_type": "execute_result",
          "data": {
            "text/plain": [
              "array([[[8.62935285e-04],\n",
              "        [7.95775455e-04],\n",
              "        [6.97365745e-04],\n",
              "        ...,\n",
              "        [3.85689309e-04],\n",
              "        [3.54713551e-04],\n",
              "        [3.42652194e-04]],\n",
              "\n",
              "       [[7.95775455e-04],\n",
              "        [6.97365745e-04],\n",
              "        [7.22036703e-04],\n",
              "        ...,\n",
              "        [3.54713551e-04],\n",
              "        [3.42652194e-04],\n",
              "        [3.54713551e-04]],\n",
              "\n",
              "       [[6.97365745e-04],\n",
              "        [7.22036703e-04],\n",
              "        [7.59043140e-04],\n",
              "        ...,\n",
              "        [3.42652194e-04],\n",
              "        [3.54713551e-04],\n",
              "        [3.79384509e-04]],\n",
              "\n",
              "       ...,\n",
              "\n",
              "       [[5.60281293e-01],\n",
              "        [5.58801035e-01],\n",
              "        [5.58663974e-01],\n",
              "        ...,\n",
              "        [9.97258782e-01],\n",
              "        [1.00000000e+00],\n",
              "        [9.88212765e-01]],\n",
              "\n",
              "       [[5.58801035e-01],\n",
              "        [5.58663974e-01],\n",
              "        [5.63570754e-01],\n",
              "        ...,\n",
              "        [1.00000000e+00],\n",
              "        [9.88212765e-01],\n",
              "        [9.98382682e-01]],\n",
              "\n",
              "       [[5.58663974e-01],\n",
              "        [5.63570754e-01],\n",
              "        [5.57704548e-01],\n",
              "        ...,\n",
              "        [9.88212765e-01],\n",
              "        [9.98382682e-01],\n",
              "        [9.67790694e-01]]])"
            ]
          },
          "metadata": {
            "tags": []
          },
          "execution_count": 23
        }
      ]
    },
    {
      "cell_type": "code",
      "metadata": {
        "id": "rtOwYl929Eut",
        "colab_type": "code",
        "colab": {
          "base_uri": "https://localhost:8080/",
          "height": 1000
        },
        "outputId": "1f692856-cc86-4d80-dd19-9a683de5e013"
      },
      "source": [
        "# Part 2 - Building the RNN\n",
        "\n",
        "# Importing the Keras libraries and packages\n",
        "from keras.models import Sequential\n",
        "from keras.layers import Dense\n",
        "from keras.layers import LSTM\n",
        "from keras.layers import Dropout\n",
        "\n",
        "\n",
        "# Initialising the RNN\n",
        "regressor = Sequential()\n",
        "\n",
        "# Adding the first LSTM layer and some Dropout regularisation\n",
        "regressor.add(LSTM(units = 50, return_sequences = True, input_shape = (X_train.shape[1], 1)))\n",
        "regressor.add(Dropout(0.2))\n",
        "\n",
        "\n",
        "# Adding a second LSTM layer and some Dropout regularisation\n",
        "regressor.add(LSTM(units = 50, return_sequences = True))\n",
        "regressor.add(Dropout(0.2))\n",
        "\n",
        "\n",
        "# Adding a third LSTM layer and some Dropout regularisation\n",
        "regressor.add(LSTM(units = 50, return_sequences = True))\n",
        "regressor.add(Dropout(0.2))\n",
        "\n",
        "\n",
        "# Adding a fourth LSTM layer and some Dropout regularisation\n",
        "regressor.add(LSTM(units = 50))\n",
        "regressor.add(Dropout(0.2))\n",
        "\n",
        "\n",
        "\n",
        "\n",
        "# Adding the output layer\n",
        "regressor.add(Dense(units = 1))\n",
        "\n",
        "# Compiling the RNN\n",
        "regressor.compile(optimizer = 'adam', loss = 'mean_squared_error')\n",
        "\n",
        "# Fitting the RNN to the Training set\n",
        "regressor.fit(X_train, y_train, epochs = 50, batch_size = 32)\n"
      ],
      "execution_count": 24,
      "outputs": [
        {
          "output_type": "stream",
          "text": [
            "Epoch 1/50\n",
            "9731/9731 [==============================] - 164s 17ms/step - loss: 0.0020\n",
            "Epoch 2/50\n",
            "9731/9731 [==============================] - 178s 18ms/step - loss: 6.3025e-04\n",
            "Epoch 3/50\n",
            "9731/9731 [==============================] - 174s 18ms/step - loss: 7.2516e-04\n",
            "Epoch 4/50\n",
            "9731/9731 [==============================] - 174s 18ms/step - loss: 4.4501e-04\n",
            "Epoch 5/50\n",
            "9731/9731 [==============================] - 175s 18ms/step - loss: 5.6177e-04\n",
            "Epoch 6/50\n",
            "9731/9731 [==============================] - 172s 18ms/step - loss: 4.2559e-04\n",
            "Epoch 7/50\n",
            "9731/9731 [==============================] - 176s 18ms/step - loss: 4.4986e-04\n",
            "Epoch 8/50\n",
            "9731/9731 [==============================] - 173s 18ms/step - loss: 4.0016e-04\n",
            "Epoch 9/50\n",
            "9731/9731 [==============================] - 175s 18ms/step - loss: 4.3073e-04\n",
            "Epoch 10/50\n",
            "9731/9731 [==============================] - 175s 18ms/step - loss: 4.3760e-04\n",
            "Epoch 11/50\n",
            "9731/9731 [==============================] - 178s 18ms/step - loss: 3.5788e-04\n",
            "Epoch 12/50\n",
            "9731/9731 [==============================] - 176s 18ms/step - loss: 3.9043e-04\n",
            "Epoch 13/50\n",
            "9731/9731 [==============================] - 175s 18ms/step - loss: 3.6939e-04\n",
            "Epoch 14/50\n",
            "9731/9731 [==============================] - 172s 18ms/step - loss: 3.3630e-04\n",
            "Epoch 15/50\n",
            "9731/9731 [==============================] - 173s 18ms/step - loss: 3.9184e-04\n",
            "Epoch 16/50\n",
            "9731/9731 [==============================] - 178s 18ms/step - loss: 3.7547e-04\n",
            "Epoch 17/50\n",
            "9731/9731 [==============================] - 174s 18ms/step - loss: 3.5774e-04\n",
            "Epoch 18/50\n",
            "9731/9731 [==============================] - 172s 18ms/step - loss: 3.7916e-04\n",
            "Epoch 19/50\n",
            "9731/9731 [==============================] - 174s 18ms/step - loss: 3.6248e-04\n",
            "Epoch 20/50\n",
            "9731/9731 [==============================] - 175s 18ms/step - loss: 3.5531e-04\n",
            "Epoch 21/50\n",
            "9731/9731 [==============================] - 176s 18ms/step - loss: 3.7515e-04\n",
            "Epoch 22/50\n",
            "9731/9731 [==============================] - 179s 18ms/step - loss: 3.8913e-04\n",
            "Epoch 23/50\n",
            "9731/9731 [==============================] - 176s 18ms/step - loss: 4.0946e-04\n",
            "Epoch 24/50\n",
            "9731/9731 [==============================] - 173s 18ms/step - loss: 3.2871e-04\n",
            "Epoch 25/50\n",
            "9731/9731 [==============================] - 174s 18ms/step - loss: 3.4254e-04\n",
            "Epoch 26/50\n",
            "9731/9731 [==============================] - 173s 18ms/step - loss: 3.2323e-04\n",
            "Epoch 27/50\n",
            "9731/9731 [==============================] - 173s 18ms/step - loss: 3.5716e-04\n",
            "Epoch 28/50\n",
            "9731/9731 [==============================] - 176s 18ms/step - loss: 3.5793e-04\n",
            "Epoch 29/50\n",
            "9731/9731 [==============================] - 172s 18ms/step - loss: 2.9113e-04\n",
            "Epoch 30/50\n",
            "9731/9731 [==============================] - 184s 19ms/step - loss: 3.9476e-04\n",
            "Epoch 31/50\n",
            "9731/9731 [==============================] - 174s 18ms/step - loss: 3.1223e-04\n",
            "Epoch 32/50\n",
            "9731/9731 [==============================] - 176s 18ms/step - loss: 2.9937e-04\n",
            "Epoch 33/50\n",
            "9731/9731 [==============================] - 174s 18ms/step - loss: 3.3471e-04\n",
            "Epoch 34/50\n",
            "9731/9731 [==============================] - 179s 18ms/step - loss: 3.6216e-04\n",
            "Epoch 35/50\n",
            "9731/9731 [==============================] - 176s 18ms/step - loss: 2.9634e-04\n",
            "Epoch 36/50\n",
            "9731/9731 [==============================] - 176s 18ms/step - loss: 3.0421e-04\n",
            "Epoch 37/50\n",
            "9731/9731 [==============================] - 176s 18ms/step - loss: 2.9230e-04\n",
            "Epoch 38/50\n",
            "9731/9731 [==============================] - 176s 18ms/step - loss: 3.1003e-04\n",
            "Epoch 39/50\n",
            "9731/9731 [==============================] - 173s 18ms/step - loss: 3.1325e-04\n",
            "Epoch 40/50\n",
            "9731/9731 [==============================] - 175s 18ms/step - loss: 3.0307e-04\n",
            "Epoch 41/50\n",
            "9731/9731 [==============================] - 174s 18ms/step - loss: 2.9631e-04\n",
            "Epoch 42/50\n",
            "9731/9731 [==============================] - 181s 19ms/step - loss: 2.6791e-04\n",
            "Epoch 43/50\n",
            "9731/9731 [==============================] - 177s 18ms/step - loss: 3.0853e-04\n",
            "Epoch 44/50\n",
            "9731/9731 [==============================] - 175s 18ms/step - loss: 2.9264e-04\n",
            "Epoch 45/50\n",
            "9731/9731 [==============================] - 174s 18ms/step - loss: 3.2529e-04\n",
            "Epoch 46/50\n",
            "9731/9731 [==============================] - 176s 18ms/step - loss: 2.7796e-04\n",
            "Epoch 47/50\n",
            "9731/9731 [==============================] - 178s 18ms/step - loss: 3.0621e-04\n",
            "Epoch 48/50\n",
            "9731/9731 [==============================] - 174s 18ms/step - loss: 2.9911e-04\n",
            "Epoch 49/50\n",
            "9731/9731 [==============================] - 182s 19ms/step - loss: 2.9079e-04\n",
            "Epoch 50/50\n",
            "9731/9731 [==============================] - 188s 19ms/step - loss: 2.6294e-04\n"
          ],
          "name": "stdout"
        },
        {
          "output_type": "execute_result",
          "data": {
            "text/plain": [
              "<keras.callbacks.callbacks.History at 0x7f38845530f0>"
            ]
          },
          "metadata": {
            "tags": []
          },
          "execution_count": 24
        }
      ]
    },
    {
      "cell_type": "code",
      "metadata": {
        "id": "XI-mGUmrAnqP",
        "colab_type": "code",
        "colab": {}
      },
      "source": [
        "# Part 3 - Making the predictions and visualising the results\n",
        "\n",
        "# Our test set contains Jul 2020 month stock predictions\n",
        "dataset_test = pd.read_csv('/content/apple_stock_test_data.csv')\n",
        "real_stock_price = dataset_test.iloc[:, 1:2].values\n",
        "\n",
        "\n",
        "\n",
        "# # Our test set contains Jul 2020 month stock predictions\n",
        "dataset_total = pd.concat((dataset_train['open'], dataset_test['open']), axis = 0)\n",
        "inputs = dataset_total[len(dataset_total) - len(dataset_test) - 240:].values\n",
        "inputs = inputs.reshape(-1,1)\n",
        "inputs = sc.transform(inputs)\n",
        "X_test = []\n",
        "for i in range(240, 262):\n",
        "    X_test.append(inputs[i-240:i, 0])\n",
        "X_test = np.array(X_test)\n",
        "X_test = np.reshape(X_test, (X_test.shape[0], X_test.shape[1], 1))\n",
        "predicted_stock_price = regressor.predict(X_test)\n",
        "predicted_stock_price = sc.inverse_transform(predicted_stock_price)\n",
        "\n"
      ],
      "execution_count": 36,
      "outputs": []
    },
    {
      "cell_type": "code",
      "metadata": {
        "id": "PYEQMNmWA-Qq",
        "colab_type": "code",
        "colab": {
          "base_uri": "https://localhost:8080/",
          "height": 295
        },
        "outputId": "1d86a3f0-c601-413d-8c9d-46663b8963cd"
      },
      "source": [
        "\n",
        "# Visualising the results\n",
        "# Our test set contains Jul 2020 month stock predictions\n",
        "plt.plot(real_stock_price, color = 'red', label = 'Real APPLE Stock Price')\n",
        "plt.plot(predicted_stock_price, color = 'blue', label = 'Predicted APPLE Stock Price')\n",
        "plt.title('APPLE Stock Price Prediction')\n",
        "plt.xlabel('Time')\n",
        "plt.ylabel('APPLE Stock Price')\n",
        "plt.legend()\n",
        "plt.show()\n",
        "\n",
        "#As you can see that predicted stock prices are close to actual prices except at the end point (end month of Jul)\n",
        "#Algorithm is unable to predict very well for month end stock price (Jul 2020) because there was one time event happened where Apple has announced the stock split during last week of Jul 2020 and the stock price has increased to $40 dollars in a single day. The split stock events are very rare\n"
      ],
      "execution_count": 42,
      "outputs": [
        {
          "output_type": "display_data",
          "data": {
            "image/png": "[encoded data removed]",
            "text/plain": [
              "<Figure size 432x288 with 1 Axes>"
            ]
          },
          "metadata": {
            "tags": [],
            "needs_background": "light"
          }
        }
      ]
    }
  ]
}